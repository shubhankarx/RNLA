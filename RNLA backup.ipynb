{
 "cells": [
  {
   "cell_type": "code",
   "execution_count": null,
   "metadata": {},
   "outputs": [],
   "source": [
    "import numpy as np\n",
    "import scipy.linalg as la\n",
    "\n",
    "# Truncated SVD function\n",
    "def truncated_svd(A, k):\n",
    "    U, S, Vt = la.svd(A, full_matrices=False)\n",
    "    U_k = U[:, :k]\n",
    "    S_k = np.diag(S[:k])\n",
    "    Vt_k = Vt[:k, :]\n",
    "    return U_k, S_k, Vt_k\n"
   ]
  },
  {
   "cell_type": "code",
   "execution_count": null,
   "metadata": {},
   "outputs": [],
   "source": [
    "\n",
    "# RSVD function\n",
    "def rsvd(A, k, p):\n",
    "    m, n = A.shape\n",
    "    Omega = np.random.randn(n, k + p)\n",
    "    Y = A @ Omega\n",
    "    Q, _ = la.qr(Y, mode='economic')\n",
    "    B = Q.T @ A\n",
    "    U_hat, S, Vt = la.svd(B, full_matrices=False)\n",
    "    U = Q @ U_hat\n",
    "    return U[:, :k], np.diag(S[:k]), Vt[:k, :]\n"
   ]
  },
  {
   "cell_type": "code",
   "execution_count": null,
   "metadata": {},
   "outputs": [],
   "source": [
    "\n",
    "if __name__ == \"__main__\":\n",
    "    rng = np.random.default_rng()\n",
    "    m, n = 200, 200\n",
    "    r = min(m, n)\n",
    "\n",
    "    eigenvals = np.logspace(0, -2, r)\n",
    "    D = np.zeros((r, r))\n",
    "    np.fill_diagonal(D, eigenvals)\n",
    "\n",
    "    U, _ = la.qr(rng.standard_normal(size=(m, r)), mode='economic')\n",
    "    V, _ = la.qr(rng.standard_normal(size=(n, r)), mode='economic')\n",
    "    A = U @ D @ V.T\n",
    "\n",
    "    # Truncated SVD\n",
    "    k = 10\n",
    "    U_k, S_k, Vt_k = truncated_svd(A, k)\n",
    "    print(\"Truncated SVD results:\")\n",
    "    print(\"U_k shape:\", U_k.shape)\n",
    "    print(\"S_k shape:\", S_k.shape)\n",
    "    print(\"Vt_k shape:\", Vt_k.shape)\n",
    "\n",
    "    # Basic RSVD\n",
    "    p = 5\n",
    "    U_rsvd, S_rsvd, Vt_rsvd = rsvd(A, k, p)\n",
    "    print(\"RSVD results:\")\n",
    "    print(\"U_rsvd shape:\", U_rsvd.shape)\n",
    "    print(\"S_rsvd shape:\", S_rsvd.shape)\n",
    "    print(\"Vt_rsvd shape:\", Vt_rsvd.shape)\n"
   ]
  }
 ],
 "metadata": {
  "language_info": {
   "name": "python"
  }
 },
 "nbformat": 4,
 "nbformat_minor": 2
}
